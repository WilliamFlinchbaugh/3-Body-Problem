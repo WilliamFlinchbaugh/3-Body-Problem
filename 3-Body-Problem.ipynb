{
 "cells": [
  {
   "cell_type": "code",
   "execution_count": 7,
   "metadata": {},
   "outputs": [
    {
     "name": "stdout",
     "output_type": "stream",
     "text": [
      "Requirement already satisfied: numpy in c:\\users\\willi\\miniconda3\\lib\\site-packages (1.23.1)\n",
      "Requirement already satisfied: matplotlib in c:\\users\\willi\\miniconda3\\lib\\site-packages (3.5.2)\n",
      "Requirement already satisfied: kiwisolver>=1.0.1 in c:\\users\\willi\\miniconda3\\lib\\site-packages (from matplotlib) (1.4.4)\n",
      "Requirement already satisfied: python-dateutil>=2.7 in c:\\users\\willi\\miniconda3\\lib\\site-packages (from matplotlib) (2.8.2)\n",
      "Requirement already satisfied: cycler>=0.10 in c:\\users\\willi\\miniconda3\\lib\\site-packages (from matplotlib) (0.11.0)\n",
      "Requirement already satisfied: fonttools>=4.22.0 in c:\\users\\willi\\miniconda3\\lib\\site-packages (from matplotlib) (4.34.4)\n",
      "Requirement already satisfied: packaging>=20.0 in c:\\users\\willi\\miniconda3\\lib\\site-packages (from matplotlib) (21.3)\n",
      "Requirement already satisfied: pillow>=6.2.0 in c:\\users\\willi\\miniconda3\\lib\\site-packages (from matplotlib) (9.2.0)\n",
      "Requirement already satisfied: numpy>=1.17 in c:\\users\\willi\\miniconda3\\lib\\site-packages (from matplotlib) (1.23.1)\n",
      "Requirement already satisfied: pyparsing>=2.2.1 in c:\\users\\willi\\miniconda3\\lib\\site-packages (from matplotlib) (3.0.9)\n",
      "Requirement already satisfied: six>=1.5 in c:\\users\\willi\\miniconda3\\lib\\site-packages (from python-dateutil>=2.7->matplotlib) (1.16.0)\n"
     ]
    }
   ],
   "source": [
    "import sys\n",
    "!{sys.executable} -m pip install numpy\n",
    "!{sys.executable} -m pip install matplotlib\n",
    "\n",
    "import matplotlib.pyplot as plt\n",
    "import numpy as np"
   ]
  },
  {
   "cell_type": "code",
   "execution_count": 6,
   "metadata": {},
   "outputs": [
    {
     "data": {
      "text/plain": [
       "(array([1.24042941e+13, 4.06923817e+12, 2.00325899e+12]),\n",
       " array([-2.15973548e+12, -9.29728069e+12,  4.15009234e+12]),\n",
       " array([-1.02445586e+13,  5.22804252e+12, -6.15335133e+12]))"
      ]
     },
     "execution_count": 6,
     "metadata": {},
     "output_type": "execute_result"
    }
   ],
   "source": [
    "G = 6.6743E-11\n",
    "\n",
    "def norm(p1, p2):\n",
    "    return np.sqrt((p1[0]-p2[0])**2 + (p1[1]-p2[1])**2 + (p1[2]-p2[2])**2)\n",
    "\n",
    "def acceleration(p1, p2, p3, m1, m2, m3):\n",
    "    a1 = (-G*m2*((p1-p2)/norm(p1,p2)**3)) - (G*m3*((p1-p3)/norm(p1,p3)**3))\n",
    "    a2 = (-G*m3*((p2-p3)/norm(p2,p3)**3)) - (G*m3*((p2-p1)/norm(p2,p1)**3))\n",
    "    a3 = (-G*m1*((p3-p1)/norm(p3,p1)**3)) - (G*m3*((p3-p2)/norm(p3,p2)**3))\n",
    "    return a1, a2, a3\n",
    "\n",
    "m1, m2, m3 = 6E24, 6E24, 6E24\n",
    "\n",
    "p1 = np.array([1, 2, 3])\n",
    "p2 = np.array([6, 9, 1])\n",
    "p3 = np.array([7, 2, 5])\n",
    "a1, a2, a3 = acceleration(p1, p2, p3, m1, m2, m3)\n",
    "a1, a2, a3"
   ]
  },
  {
   "cell_type": "code",
   "execution_count": null,
   "metadata": {},
   "outputs": [],
   "source": []
  }
 ],
 "metadata": {
  "kernelspec": {
   "display_name": "base",
   "language": "python",
   "name": "python3"
  },
  "language_info": {
   "codemirror_mode": {
    "name": "ipython",
    "version": 3
   },
   "file_extension": ".py",
   "mimetype": "text/x-python",
   "name": "python",
   "nbconvert_exporter": "python",
   "pygments_lexer": "ipython3",
   "version": "3.9.12"
  },
  "orig_nbformat": 4
 },
 "nbformat": 4,
 "nbformat_minor": 2
}
